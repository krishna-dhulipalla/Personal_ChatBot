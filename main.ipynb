{
 "cells": [
  {
   "cell_type": "markdown",
   "id": "a77dfc09",
   "metadata": {},
   "source": [
    "### ======== IMPORTS ========\n"
   ]
  },
  {
   "cell_type": "code",
   "execution_count": 1,
   "id": "78f3e6b0",
   "metadata": {},
   "outputs": [
    {
     "name": "stderr",
     "output_type": "stream",
     "text": [
      "c:\\Users\\vamsi\\OneDrive\\Desktop\\chatbot\\env\\Lib\\site-packages\\tqdm\\auto.py:21: TqdmWarning: IProgress not found. Please update jupyter and ipywidgets. See https://ipywidgets.readthedocs.io/en/stable/user_install.html\n",
      "  from .autonotebook import tqdm as notebook_tqdm\n"
     ]
    }
   ],
   "source": [
    "import os\n",
    "import json\n",
    "import re\n",
    "import hashlib\n",
    "from functools import partial        \n",
    "from collections import defaultdict\n",
    "from threading import Lock\n",
    "import gradio as gr\n",
    "from typing import List, Dict, Any, Optional, List, Literal"
   ]
  },
  {
   "cell_type": "code",
   "execution_count": 2,
   "id": "5d7582bf",
   "metadata": {},
   "outputs": [],
   "source": [
    "import numpy as np\n",
    "from dotenv import load_dotenv\n",
    "from rich.console import Console\n",
    "from rich.style import Style\n",
    "from pydantic import BaseModel, Field\n"
   ]
  },
  {
   "cell_type": "code",
   "execution_count": 3,
   "id": "6e9a1eb3",
   "metadata": {},
   "outputs": [],
   "source": [
    "from langchain_core.runnables import RunnableLambda\n",
    "from langchain_nvidia_ai_endpoints import ChatNVIDIA\n",
    "from langchain_core.output_parsers import StrOutputParser\n",
    "from langchain_core.prompts import ChatPromptTemplate\n",
    "from langchain.schema.runnable.passthrough import RunnableAssign\n",
    "from langchain_huggingface import HuggingFaceEmbeddings\n",
    "from langchain_community.vectorstores import FAISS\n",
    "from langchain_community.retrievers import BM25Retriever\n",
    "from langchain_openai import ChatOpenAI"
   ]
  },
  {
   "cell_type": "markdown",
   "id": "3662a307",
   "metadata": {},
   "source": [
    "### ======== SETUP ENVIRONMENT ========\n"
   ]
  },
  {
   "cell_type": "code",
   "execution_count": 4,
   "id": "9b718595",
   "metadata": {},
   "outputs": [],
   "source": [
    "dotenv_path = os.path.join(os.getcwd(), \".env\")\n",
    "load_dotenv(dotenv_path)\n",
    "api_key = os.getenv(\"NVIDIA_API_KEY\")\n",
    "os.environ[\"NVIDIA_API_KEY\"] = api_key"
   ]
  },
  {
   "cell_type": "code",
   "execution_count": 5,
   "id": "e6480ffb",
   "metadata": {},
   "outputs": [],
   "source": [
    "# Constants\n",
    "FAISS_PATH = \"faiss_store/v61_600_150\"\n",
    "CHUNKS_PATH = \"all_chunks.json\"\n",
    "KRISHNA_BIO = \"\"\"Krishna Vamsi Dhulipalla completed masters in Computer Science at Virginia Tech, awarded degree in december 2024, with over 3 years of experience across data engineering, machine learning research, and real-time analytics. He specializes in building scalable data systems and intelligent LLM-powered applications, with strong expertise in Python, PyTorch, Hugging Face Transformers, and end-to-end ML pipelines.\n",
    "\n",
    "He has led projects involving retrieval-augmented generation (RAG), feature selection for genomic classification, fine-tuning domain-specific LLMs (e.g., DNABERT, HyenaDNA), and real-time forecasting systems using Kafka, Spark, and Airflow. His cloud proficiency spans AWS (S3, SageMaker, ECS, CloudWatch), GCP (BigQuery, Cloud Composer), and DevOps tools like Docker, Kubernetes, and MLflow.\n",
    "\n",
    "Krishna’s research has focused on genomic sequence modeling, transformer optimization, MLOps automation, and cross-domain generalization. He has published work in bioinformatics and machine learning applications for circadian transcription prediction and transcription factor binding.\n",
    "\n",
    "He holds certifications in NVIDIA’s RAG Agents with LLMs, Google Cloud Data Engineering, and AWS ML Specialization. Krishna is passionate about scalable LLM infrastructure, data-centric AI, and domain-adaptive ML solutions — combining deep technical expertise with real-world engineering impact.\n",
    "\\n\\n\n",
    "Beside carrer, Krishna loves hiking, cricket, and exploring new technologies. He is big fan of Marvel Movies and Space exploration.\n",
    "\"\"\"\n"
   ]
  },
  {
   "cell_type": "code",
   "execution_count": 6,
   "id": "946b1cd2",
   "metadata": {},
   "outputs": [],
   "source": [
    "# ChatNVIDIA.get_available_models()"
   ]
  },
  {
   "cell_type": "markdown",
   "id": "35680c8f",
   "metadata": {},
   "source": [
    "### ======== UTILITY FUNCTIONS ========\n"
   ]
  },
  {
   "cell_type": "code",
   "execution_count": 7,
   "id": "1613ddaa",
   "metadata": {},
   "outputs": [],
   "source": [
    "def initialize_console():\n",
    "    console = Console()\n",
    "    base_style = Style(color=\"#76B900\", bold=True)\n",
    "    return partial(console.print, style=base_style)"
   ]
  },
  {
   "cell_type": "code",
   "execution_count": 8,
   "id": "f03b74bf",
   "metadata": {},
   "outputs": [],
   "source": [
    "pprint = initialize_console()\n",
    "\n",
    "def PPrint(preface=\"State: \"):\n",
    "    def print_and_return(x, preface=\"\"):\n",
    "        pprint(preface, x)\n",
    "        return x\n",
    "    return RunnableLambda(partial(print_and_return, preface=preface))\n",
    "\n",
    "def load_chunks_from_json(path: str = CHUNKS_PATH) -> List[Dict]:\n",
    "    with open(path, \"r\", encoding=\"utf-8\") as f:\n",
    "        return json.load(f)\n",
    "\n",
    "def load_faiss(path: str = FAISS_PATH, \n",
    "               model_name: str = \"sentence-transformers/all-MiniLM-L6-v2\") -> FAISS:\n",
    "    embeddings = HuggingFaceEmbeddings(model_name=model_name)\n",
    "    return FAISS.load_local(path, embeddings, allow_dangerous_deserialization=True)\n",
    "\n",
    "def initialize_resources():\n",
    "    vectorstore = load_faiss()\n",
    "    all_chunks = load_chunks_from_json()\n",
    "    all_texts = [chunk[\"text\"] for chunk in all_chunks]\n",
    "    metadatas = [chunk[\"metadata\"] for chunk in all_chunks]\n",
    "    return vectorstore, all_chunks, all_texts, metadatas"
   ]
  },
  {
   "cell_type": "code",
   "execution_count": 9,
   "id": "d0f0e428",
   "metadata": {},
   "outputs": [],
   "source": [
    "\n",
    "vectorstore, all_chunks, all_texts, metadatas = initialize_resources()\n",
    "bm25_retriever = BM25Retriever.from_texts(texts=all_texts, metadatas=metadatas)"
   ]
  },
  {
   "cell_type": "code",
   "execution_count": 10,
   "id": "98f04f71",
   "metadata": {},
   "outputs": [],
   "source": [
    "class KnowledgeBase(BaseModel):\n",
    "    user_name: str = Field('unknown', description=\"The name of the user chatting with Krishna's assistant, or 'unknown' if not provided\")\n",
    "    company: Optional[str] = Field(None, description=\"The company or organization the user is associated with, if mentioned\")\n",
    "    last_input: str = Field(\"\", description=\"The most recent user question or message\")\n",
    "    last_output: str = Field(\"\", description=\"The most recent assistant response to the user\")\n",
    "    summary_history: List[str] = Field(default_factory=list, description=\"Summarized conversation history over turns\")\n",
    "    recent_interests: List[str] = Field(default_factory=list, description=\"User's recurring interests or topics they ask about, e.g., 'LLMs', 'Krishna's research', 'career advice'\")\n",
    "    last_followups: List[str] = Field(default_factory=list, description=\"List of follow-up suggestions from the last assistant response\")\n",
    "    tone: Optional[Literal['formal', 'casual', 'playful', 'direct', 'uncertain']] = Field(None, description=\"Inferred tone or attitude from the user based on recent input\")\n"
   ]
  },
  {
   "cell_type": "code",
   "execution_count": 11,
   "id": "96a12b8c",
   "metadata": {},
   "outputs": [],
   "source": [
    "#knowledge_base = KnowledgeBase()\n",
    "user_kbs = {}\n",
    "kb_lock = Lock()"
   ]
  },
  {
   "cell_type": "markdown",
   "id": "d37a356d",
   "metadata": {},
   "source": [
    "### ======== CHAIN COMPONENTS ========\n"
   ]
  },
  {
   "cell_type": "code",
   "execution_count": 12,
   "id": "9019c67b",
   "metadata": {},
   "outputs": [],
   "source": [
    "# LLMs\n",
    "# repharser_llm = ChatNVIDIA(model=\"mistralai/mistral-7b-instruct-v0.3\") | StrOutputParser()\n",
    "repharser_llm = ChatNVIDIA(model=\"microsoft/phi-3-mini-4k-instruct\") | StrOutputParser()\n",
    "# instruct_llm = ChatNVIDIA(model=\"mistralai/mixtral-8x22b-instruct-v0.1\") | StrOutputParser()\n",
    "instruct_llm = ChatNVIDIA(model=\"mistralai/mistral-7b-instruct-v0.3\") | StrOutputParser()\n",
    "relevance_llm = ChatNVIDIA(model=\"nvidia/llama-3.1-nemotron-70b-instruct\") | StrOutputParser()\n",
    "answer_llm = ChatOpenAI(\n",
    "    model=\"gpt-4o\",              \n",
    "    temperature=0.3,             \n",
    "    openai_api_key=os.getenv(\"OPENAI_API_KEY\"),\n",
    "    streaming=True\n",
    ") | StrOutputParser()"
   ]
  },
  {
   "cell_type": "code",
   "execution_count": 13,
   "id": "1b08cc5b",
   "metadata": {},
   "outputs": [],
   "source": [
    "# Prompts\n",
    "repharser_prompt = ChatPromptTemplate.from_template(\n",
    "    \"You are a smart retrieval assistant helping a search engine understand user intent more precisely.\\n\\n\"\n",
    "    \"Given a user question, generate **1 diverse rewrite** that is semantically equivalent but phrased differently. \\n\"\n",
    "    \"The rewrite should be optimized for **retrieval from a hybrid system** using BM25 (keyword match) and dense vector embeddings.\\n\\n\"\n",
    "    \"Guidelines:\\n\"\n",
    "    \"- Expand abbreviations or implied intent when useful\\n\"\n",
    "    \"- Add relevant technical terms, tools, frameworks, or synonyms (e.g., 'LLM', 'pipeline', 'project')\\n\"\n",
    "    \"- Rephrase using different sentence structure or tone\\n\"\n",
    "    \"- Use field-specific vocabulary (e.g., data science, ML, software, research) if it fits the query\\n\"\n",
    "    \"- Prioritize clarity and retrievability over stylistic variation\\n\\n\"\n",
    "    \"Original Question:\\n{query}\\n\\n\"\n",
    "    \"Rewrite:\\n1.\"\n",
    ")\n",
    "\n",
    "\n",
    "relevance_prompt = ChatPromptTemplate.from_template(\"\"\"\n",
    "You are Krishna's personal AI assistant classifier.\n",
    "\n",
    "Your job is to decide whether a user's question can be meaningfully answered using the provided document chunks **or** relevant user memory.\n",
    "\n",
    "Return a JSON object:\n",
    "- \"is_out_of_scope\": true if the chunks and memory cannot help answer the question\n",
    "- \"justification\": a short sentence explaining your decision\n",
    "\n",
    "---\n",
    "\n",
    "Special instructions:\n",
    "\n",
    "✅ Treat short or vague queries like \"yes\", \"tell me more\", \"go on\", or \"give me\" as follow-up prompts. \n",
    "Assume the user is asking for **continuation** of the previous assistant response or follow-ups stored in memory. Consider that context as *in-scope*.\n",
    "\n",
    "✅ Also consider if the user's question can be answered using stored memory (like their name, company, interests, or last follow-up topics).\n",
    "\n",
    "Do NOT classify these types of queries as \"out of scope\".\n",
    "\n",
    "Only mark as out-of-scope if the user asks something truly unrelated to both:\n",
    "- Krishna's background\n",
    "- Stored user memory\n",
    "\n",
    "---\n",
    "\n",
    "Examples:\n",
    "\n",
    "Q: \"Tell me more\"\n",
    "Chunks: previously retrieved info about Krishna's ML tools  \n",
    "Memory: User previously asked about PyTorch and ML pipelines\n",
    "\n",
    "Output:\n",
    "{{\n",
    "  \"is_out_of_scope\": false,\n",
    "  \"justification\": \"User is requesting a follow-up to a valid context, based on prior conversation\"\n",
    "}}\n",
    "\n",
    "Q: \"What is Krishna's Hogwarts house?\"\n",
    "Chunks: None about fiction  \n",
    "Memory: User hasn't mentioned fiction/fantasy\n",
    "\n",
    "Output:\n",
    "{{\n",
    "  \"is_out_of_scope\": true,\n",
    "  \"justification\": \"The question is unrelated to Krishna or user context\"\n",
    "}}\n",
    "\n",
    "---\n",
    "\n",
    "Now your turn.\n",
    "\n",
    "User Question:\n",
    "\"{query}\"\n",
    "\n",
    "Chunks:\n",
    "{contents}\n",
    "\n",
    "User Memory (Knowledge Base):\n",
    "{memory}\n",
    "\n",
    "Return ONLY the JSON object.\n",
    "\"\"\")\n",
    "\n",
    "\n",
    "answer_prompt_relevant = ChatPromptTemplate.from_template(\n",
    "    \"You are Krishna's personal AI assistant. Your job is to answer the user’s question clearly, thoroughly, and professionally using the provided context.\\n\"\n",
    "    \"Rather than copying sentences, synthesize relevant insights and explain them like a knowledgeable peer.\\n\\n\"\n",
    "    \"Use relevant memory about the user to personalize the answer where appropriate.\\n\\n\"\n",
    "    \"Krishna's Background:\\n{profile}\\n\\n\"\n",
    "    \"User Memory (Knowledge Base):\\n{memory}\\n\\n\"\n",
    "    \"Context:\\n{context}\\n\\n\"\n",
    "    \"Instructions:\\n\"\n",
    "    \"- Format your response in **Markdown** for readability.\\n\"\n",
    "    \"- Use **section headings with emojis** to organize the answer when helpful (e.g., 🔍 Overview, 🛠️ Tools Used, 📈 Real-World Impact).\\n\"\n",
    "    \"- Use bullet points or bold text to highlight tools, skills, or project names.\\n\"\n",
    "    \"- Add paragraph breaks between major ideas.\\n\"\n",
    "    \"- Keep the tone conversational and helpful — like a smart peer explaining something.\\n\"\n",
    "    \"- If the user asks about Krishna’s work experience, provide a **chronological summary** of his roles and key contributions (e.g., UJR, Virginia Tech).\\n\"\n",
    "    \"- You may use general knowledge to briefly explain tools (like PyTorch or Kafka), but **do not invent any new facts** about Krishna.\\n\"\n",
    "    \"- Avoid filler phrases, repetition, or generic praise (e.g., strengths) unless directly asked.\\n\"\n",
    "    \"- End with a friendly follow-up question (no subheading needed here).\\n\\n\"\n",
    "    \"Now generate the answer for the following:\\n\\n\"\n",
    "    \"User Question:\\n{query}\\n\\n\"\n",
    "    \"Answer:\"\n",
    ")\n",
    "\n",
    "\n",
    "answer_prompt_fallback = ChatPromptTemplate.from_template(\n",
    "    \"You are Krishna’s personal AI assistant. The user asked a question unrelated to Krishna’s background.\\n\"\n",
    "    \"Respond with a touch of humor, then guide the conversation back to Krishna’s actual skills, experiences, or projects.\\n\\n\"\n",
    "    \"Make it clear that everything you mention afterward comes from Krishna's actual profile.\\n\\n\"\n",
    "    \"Krishna's Background:\\n{profile}\\n\\n\"\n",
    "    \"User Memory (Knowledge Base):\\n{memory}\\n\\n\"\n",
    "    \"User Question:\\n{query}\\n\\n\"\n",
    "    \"Your Answer:\"\n",
    ")"
   ]
  },
  {
   "cell_type": "code",
   "execution_count": 14,
   "id": "e2879e7e",
   "metadata": {},
   "outputs": [],
   "source": [
    "# Helper Functions\n",
    "def parse_rewrites(raw_response: str) -> list[str]:\n",
    "    lines = raw_response.strip().split(\"\\n\")\n",
    "    return [line.strip(\"0123456789. \").strip() for line in lines if line.strip()][:1]\n"
   ]
  },
  {
   "cell_type": "code",
   "execution_count": 15,
   "id": "aa23f3b5",
   "metadata": {},
   "outputs": [],
   "source": [
    "def hybrid_retrieve(inputs, exclude_terms=None):\n",
    "    bm25_retriever = inputs[\"bm25_retriever\"]\n",
    "    all_queries = inputs[\"all_queries\"]\n",
    "    bm25_retriever.k = inputs[\"k_per_query\"]\n",
    "    vectorstore = inputs[\"vectorstore\"]\n",
    "    alpha = inputs[\"alpha\"]\n",
    "    top_k = inputs.get(\"top_k\", 30)\n",
    "    k_per_query = inputs[\"k_per_query\"]\n",
    "\n",
    "    scored_chunks = defaultdict(lambda: {\n",
    "        \"vector_scores\": [],\n",
    "        \"bm25_score\": 0.0,\n",
    "        \"content\": None,\n",
    "        \"metadata\": None,\n",
    "    })\n",
    "\n",
    "    def process_subquery(subquery, k=k_per_query):\n",
    "        vec_hits = vectorstore.similarity_search_with_score(subquery, k=k)\n",
    "        bm_hits = bm25_retriever.invoke(subquery)\n",
    "\n",
    "        vec_results = [\n",
    "            (hashlib.md5(doc.page_content.encode(\"utf-8\")).hexdigest(), doc, score)\n",
    "            for doc, score in vec_hits\n",
    "        ]\n",
    "\n",
    "        bm_results = [\n",
    "            (hashlib.md5(doc.page_content.encode(\"utf-8\")).hexdigest(), doc, 1.0 / (rank + 1))\n",
    "            for rank, doc in enumerate(bm_hits)\n",
    "        ]\n",
    "\n",
    "        return vec_results, bm_results\n",
    "\n",
    "    # Process each subquery serially\n",
    "    for subquery in all_queries:\n",
    "        vec_results, bm_results = process_subquery(subquery)\n",
    "\n",
    "        for key, doc, vec_score in vec_results:\n",
    "            scored_chunks[key][\"vector_scores\"].append(vec_score)\n",
    "            scored_chunks[key][\"content\"] = doc.page_content\n",
    "            scored_chunks[key][\"metadata\"] = doc.metadata\n",
    "\n",
    "        for key, doc, bm_score in bm_results:\n",
    "            scored_chunks[key][\"bm25_score\"] += bm_score\n",
    "            scored_chunks[key][\"content\"] = doc.page_content\n",
    "            scored_chunks[key][\"metadata\"] = doc.metadata\n",
    "\n",
    "    all_vec_means = [np.mean(v[\"vector_scores\"]) for v in scored_chunks.values() if v[\"vector_scores\"]]\n",
    "    max_vec = max(all_vec_means) if all_vec_means else 1\n",
    "    min_vec = min(all_vec_means) if all_vec_means else 0\n",
    "\n",
    "    final_results = []\n",
    "    for chunk in scored_chunks.values():\n",
    "        vec_score = np.mean(chunk[\"vector_scores\"]) if chunk[\"vector_scores\"] else 0.0\n",
    "        norm_vec = 0.5 if max_vec == min_vec else (vec_score - min_vec) / (max_vec - min_vec)\n",
    "        bm25_score = chunk[\"bm25_score\"] / len(all_queries)\n",
    "        final_score = alpha * norm_vec + (1 - alpha) * bm25_score\n",
    "\n",
    "        content = chunk[\"content\"].lower()\n",
    "        if final_score < 0.01 or len(content.strip()) < 40:\n",
    "            continue\n",
    "\n",
    "        final_results.append({\n",
    "            \"content\": chunk[\"content\"],\n",
    "            \"source\": chunk[\"metadata\"].get(\"source\", \"\"),\n",
    "            \"final_score\": float(round(final_score, 4))\n",
    "        })\n",
    "\n",
    "    final_results = sorted(final_results, key=lambda x: x[\"final_score\"], reverse=True)\n",
    "\n",
    "    seen = set()\n",
    "    unique_chunks = []\n",
    "    for chunk in final_results:\n",
    "        clean_text = re.sub(r'\\W+', '', chunk[\"content\"].lower())[:300]\n",
    "        fingerprint = (chunk[\"source\"], clean_text)\n",
    "        if fingerprint not in seen:\n",
    "            seen.add(fingerprint)\n",
    "            unique_chunks.append(chunk)\n",
    "\n",
    "    unique_chunks = unique_chunks[:top_k]\n",
    "\n",
    "    return {\n",
    "        \"query\": inputs[\"query\"],\n",
    "        \"chunks\": unique_chunks\n",
    "    }"
   ]
  },
  {
   "cell_type": "code",
   "execution_count": 16,
   "id": "a5b85e6e",
   "metadata": {},
   "outputs": [],
   "source": [
    "def safe_json_parse(s: str) -> Dict:\n",
    "    try:\n",
    "        if isinstance(s, str) and \"is_out_of_scope\" in s:\n",
    "            return json.loads(s)\n",
    "    except json.JSONDecodeError:\n",
    "        pass\n",
    "    return {\n",
    "        \"is_out_of_scope\": True,\n",
    "        \"justification\": \"Fallback due to invalid or missing LLM output\"\n",
    "    }"
   ]
  },
  {
   "cell_type": "markdown",
   "id": "08b8cd11",
   "metadata": {},
   "source": [
    "### ======== CHAIN CONSTRUCTION ========\n"
   ]
  },
  {
   "cell_type": "code",
   "execution_count": 17,
   "id": "7d21b0dd",
   "metadata": {},
   "outputs": [],
   "source": [
    "# Rewrite generation\n",
    "rephraser_chain = (\n",
    "    repharser_prompt\n",
    "    | repharser_llm\n",
    "    | RunnableLambda(parse_rewrites)\n",
    ")\n",
    "\n",
    "generate_rewrites_chain = (\n",
    "    RunnableAssign({\n",
    "        \"rewrites\": lambda x: rephraser_chain.invoke({\"query\": x[\"query\"]})\n",
    "    })\n",
    "    | RunnableAssign({\n",
    "        \"all_queries\": lambda x: [x[\"query\"]] + x[\"rewrites\"]\n",
    "    })\n",
    ")\n",
    "\n",
    "# Retrieval\n",
    "retrieve_chain = RunnableLambda(hybrid_retrieve)\n",
    "hybrid_chain = generate_rewrites_chain | retrieve_chain\n",
    "\n",
    "# Validation\n",
    "extract_validation_inputs = RunnableLambda(lambda x: {\n",
    "    \"query\": x[\"query\"],\n",
    "    \"contents\": [c[\"content\"] for c in x[\"chunks\"]],\n",
    "    \"memory\": x[\"memory\"] \n",
    "})\n",
    "\n",
    "validation_chain = (\n",
    "    extract_validation_inputs\n",
    "    | relevance_prompt\n",
    "    | instruct_llm\n",
    "    | RunnableLambda(safe_json_parse)\n",
    ")"
   ]
  },
  {
   "cell_type": "code",
   "execution_count": 18,
   "id": "1da5ceaf",
   "metadata": {},
   "outputs": [],
   "source": [
    "# inputs = {\n",
    "#         \"query\": \"what are krishna's skills?\",\n",
    "#         \"all_queries\": [\"what are krishna's skills?\"],\n",
    "#         \"all_texts\": all_chunks,\n",
    "#         \"k_per_query\": 3,\n",
    "#         \"alpha\": 0.7,\n",
    "#         \"vectorstore\": vectorstore,\n",
    "#         \"full_document\": \"\",\n",
    "#     }\n",
    "# result = hybrid_chain.invoke(inputs)"
   ]
  },
  {
   "cell_type": "code",
   "execution_count": 19,
   "id": "4e5f8636",
   "metadata": {},
   "outputs": [],
   "source": [
    "# full_document = \"\\n\\n\".join(chunk[\"content\"] for chunk in result[\"chunks\"])\n",
    "\n",
    "# inject_document = RunnableLambda(lambda x: {**x, \"full_document\": full_document})"
   ]
  },
  {
   "cell_type": "code",
   "execution_count": 20,
   "id": "1bc4336f",
   "metadata": {},
   "outputs": [],
   "source": [
    "# Answer Generation\n",
    "def prepare_answer_inputs(x: Dict) -> Dict:\n",
    "    context = KRISHNA_BIO if x[\"validation\"][\"is_out_of_scope\"] else \"\\n\\n\".join(\n",
    "        [chunk[\"content\"] for chunk in x[\"chunks\"]]\n",
    "    )\n",
    "\n",
    "    return {\n",
    "        \"query\": x[\"query\"],\n",
    "        \"profile\": KRISHNA_BIO,\n",
    "        \"context\": context,\n",
    "        \"use_fallback\": x[\"validation\"][\"is_out_of_scope\"],\n",
    "        \"memory\": x[\"memory\"] \n",
    "    }\n",
    "\n",
    "select_and_prompt = RunnableLambda(lambda x: \n",
    "    answer_prompt_fallback.invoke(x) if x[\"use_fallback\"]\n",
    "    else answer_prompt_relevant.invoke(x))\n",
    "\n",
    "answer_chain = (\n",
    "    prepare_answer_inputs\n",
    "    | select_and_prompt\n",
    "    #| answer_llm\n",
    "    | relevance_llm\n",
    ")\n"
   ]
  },
  {
   "cell_type": "code",
   "execution_count": 21,
   "id": "e70dc366",
   "metadata": {},
   "outputs": [],
   "source": [
    "parser_prompt = ChatPromptTemplate.from_template(\n",
    "    \"You are Krishna's personal AI assistant, and your task is to maintain a memory of the user you're chatting with.\\n\"\n",
    "    \"You just received a new user message and provided a response.\\n\"\n",
    "    \"Please update the knowledge base using the schema below.\\n\\n\"\n",
    "    \"{format_instructions}\\n\\n\"\n",
    "    \"Previous Knowledge Base:\\n{know_base}\\n\\n\"\n",
    "    \"Latest Assistant Response:\\n{output}\\n\\n\"\n",
    "    \"Latest User Message:\\n{input}\\n\\n\"\n",
    "    \"Return ONLY the updated knowledge base JSON:\\n\"\n",
    "    \"If the assistant’s response includes follow-up suggestions or continuation prompts (like 'Would you like to learn more about...'), store them in the `last_followups` field.\"\n",
    ")"
   ]
  },
  {
   "cell_type": "code",
   "execution_count": 22,
   "id": "20a3c232",
   "metadata": {},
   "outputs": [],
   "source": [
    "from langchain.output_parsers import PydanticOutputParser\n",
    "from typing import Type"
   ]
  },
  {
   "cell_type": "code",
   "execution_count": 23,
   "id": "a0819c47",
   "metadata": {},
   "outputs": [],
   "source": [
    "def RExtract(pydantic_class: Type[BaseModel], llm, prompt):\n",
    "    \"\"\"\n",
    "    Runnable Extraction module for updating Krishna Assistant's KnowledgeBase.\n",
    "    Fills in a structured schema using PydanticOutputParser.\n",
    "    \"\"\"\n",
    "    parser = PydanticOutputParser(pydantic_object=pydantic_class)\n",
    "    instruct_merge = RunnableAssign({\n",
    "        'format_instructions': lambda x: parser.get_format_instructions()\n",
    "    })\n",
    "\n",
    "    def preparse(raw: str):\n",
    "        # Clean malformed LLM outputs\n",
    "        if '{' not in raw: raw = '{' + raw\n",
    "        if '}' not in raw: raw = raw + '}'\n",
    "        return (raw\n",
    "                .replace(\"\\\\_\", \"_\")\n",
    "                .replace(\"\\n\", \" \")\n",
    "                .replace(\"\\]\", \"]\")\n",
    "                .replace(\"\\[\", \"[\")\n",
    "        )\n",
    "\n",
    "    return instruct_merge | prompt | llm | RunnableLambda(preparse) | parser\n"
   ]
  },
  {
   "cell_type": "code",
   "execution_count": 24,
   "id": "811e19ac",
   "metadata": {},
   "outputs": [],
   "source": [
    "knowledge_extractor = RExtract(\n",
    "    pydantic_class=KnowledgeBase,\n",
    "    llm=instruct_llm,            # a lightweight LLM like Mistral-7B-Instruct\n",
    "    prompt=parser_prompt        # the prompt we built\n",
    ")"
   ]
  },
  {
   "cell_type": "code",
   "execution_count": 25,
   "id": "8554eefc",
   "metadata": {},
   "outputs": [],
   "source": [
    "def get_knowledge_base(session_id: str) -> KnowledgeBase:\n",
    "    \"\"\"Get or create a knowledge base for a session\"\"\"\n",
    "    with kb_lock:\n",
    "        if session_id not in user_kbs:\n",
    "            user_kbs[session_id] = KnowledgeBase()\n",
    "        return user_kbs[session_id]"
   ]
  },
  {
   "cell_type": "code",
   "execution_count": 26,
   "id": "8488608b",
   "metadata": {},
   "outputs": [],
   "source": [
    "def update_knowledge_base(session_id: str, user_input: str, assistant_response: str):\n",
    "    \"\"\"Update the knowledge base for a specific session\"\"\"\n",
    "    try:\n",
    "        kb = get_knowledge_base(session_id)\n",
    "        kb_input = {\n",
    "            \"know_base\": kb.model_dump_json(),\n",
    "            \"input\": user_input,\n",
    "            \"output\": assistant_response\n",
    "        }\n",
    "        new_kb = knowledge_extractor.invoke(kb_input)\n",
    "        with kb_lock:\n",
    "            user_kbs[session_id] = new_kb\n",
    "        print(f\"✅ KNOWLEDGE BASE UPDATED FOR SESSION {session_id}\")\n",
    "    except Exception as e:\n",
    "        print(f\"❌ KNOWLEDGE BASE UPDATE FAILED: {str(e)}\")"
   ]
  },
  {
   "cell_type": "code",
   "execution_count": 27,
   "id": "724d1d87",
   "metadata": {},
   "outputs": [],
   "source": [
    "# New chain to preserve memory through the pipeline\n",
    "preserve_memory_chain = RunnableLambda(lambda x: {\n",
    "    **hybrid_chain.invoke(x),  \n",
    "    \"memory\": x[\"memory\"]     \n",
    "})\n",
    "\n",
    "# Full pipeline\n",
    "full_pipeline = (\n",
    "    preserve_memory_chain \n",
    "    | RunnableAssign({\"validation\": validation_chain}) \n",
    "    | answer_chain\n",
    ")"
   ]
  },
  {
   "cell_type": "markdown",
   "id": "8ff10e66",
   "metadata": {},
   "source": [
    "### ======== GRADIO INTERFACE ========\n"
   ]
  },
  {
   "cell_type": "code",
   "execution_count": 28,
   "id": "e729d86f",
   "metadata": {},
   "outputs": [],
   "source": [
    "def chat_interface(message, history, request: gr.Request):\n",
    "    \"\"\"Modified chat interface with session support\"\"\"\n",
    "    session_id = request.session_hash\n",
    "    kb = get_knowledge_base(session_id)\n",
    "    \n",
    "    # Initialize inputs with session-specific KB\n",
    "    inputs = {\n",
    "        \"query\": message,\n",
    "        \"all_queries\": [message],\n",
    "        \"all_texts\": all_chunks,\n",
    "        \"k_per_query\": 7,\n",
    "        \"alpha\": 0.5,\n",
    "        \"vectorstore\": vectorstore,\n",
    "        \"bm25_retriever\": bm25_retriever,\n",
    "        \"memory\": kb.model_dump_json()\n",
    "    }\n",
    "    \n",
    "    full_response = \"\"\n",
    "    for chunk in full_pipeline.stream(inputs):\n",
    "        if isinstance(chunk, str):\n",
    "            full_response += chunk\n",
    "            yield full_response\n",
    "    \n",
    "    # Update KB after response\n",
    "    if full_response:\n",
    "        update_knowledge_base(session_id, message, full_response)"
   ]
  },
  {
   "cell_type": "code",
   "execution_count": null,
   "id": "747ac014",
   "metadata": {},
   "outputs": [
    {
     "name": "stderr",
     "output_type": "stream",
     "text": [
      "c:\\Users\\vamsi\\OneDrive\\Desktop\\chatbot\\env\\Lib\\site-packages\\gradio\\chat_interface.py:339: UserWarning: The 'tuples' format for chatbot messages is deprecated and will be removed in a future version of Gradio. Please set type='messages' instead, which uses openai-style 'role' and 'content' keys.\n",
      "  self.chatbot = Chatbot(\n"
     ]
    },
    {
     "name": "stdout",
     "output_type": "stream",
     "text": [
      "* Running on local URL:  http://127.0.0.1:7861\n",
      "* To create a public link, set `share=True` in `launch()`.\n"
     ]
    },
    {
     "data": {
      "text/html": [
       "<div><iframe src=\"http://127.0.0.1:7861/\" width=\"100%\" height=\"500\" allow=\"autoplay; camera; microphone; clipboard-read; clipboard-write;\" frameborder=\"0\" allowfullscreen></iframe></div>"
      ],
      "text/plain": [
       "<IPython.core.display.HTML object>"
      ]
     },
     "metadata": {},
     "output_type": "display_data"
    },
    {
     "name": "stdout",
     "output_type": "stream",
     "text": [
      "✅ KNOWLEDGE BASE UPDATED FOR SESSION eafmwrs7b2j\n"
     ]
    }
   ],
   "source": [
    "demo = gr.ChatInterface(\n",
    "    fn=chat_interface,\n",
    "    title=\"💬 Ask Krishna's AI Assistant\",\n",
    "    css= \"\"\"\n",
    "    html, body {\n",
    "        margin: 0;\n",
    "        padding: 0;\n",
    "        overflow-x: hidden; /* prevent horizontal scrollbars on body */\n",
    "    }\n",
    "    .column:nth-child(2) {\n",
    "        max-width: 800px;\n",
    "        margin: 0 auto;\n",
    "        width: 100%;\n",
    "    }\n",
    "    .float {\n",
    "        display: none;\n",
    "    }\n",
    "    .bubble-wrap {\n",
    "        background: #0f0f11 !important;\n",
    "    }\n",
    "    .gr-group {\n",
    "        border-radius: 2rem !important;\n",
    "    }\n",
    "    .flex {\n",
    "        border: none !important;\n",
    "    }\n",
    "    footer {\n",
    "        display: none !important;\n",
    "    }\n",
    "    ::-webkit-scrollbar {\n",
    "    width: 1px;\n",
    "    height: 1px;\n",
    "}\n",
    "\n",
    "::-webkit-scrollbar-track {\n",
    "    background: transparent;\n",
    "}\n",
    "\n",
    "::-webkit-scrollbar-thumb {\n",
    "    background-color: rgba(255, 255, 255, 0.1); /* very light thumb */\n",
    "    border-radius: 10px;\n",
    "}\n",
    "\n",
    "/* Scrollbar - Firefox */\n",
    "* {\n",
    "    scrollbar-width: thin;\n",
    "    scrollbar-color: rgba(255,255,255,0.1) transparent;\n",
    "}\n",
    "    \"\"\",\n",
    "    examples=[\n",
    "        \"Give me an overview of Krishna Vamsi Dhulipalla's work experience across different roles?\",\n",
    "        \"What programming languages and tools does Krishna use for data science?\",\n",
    "        \"Can this chatbot tell me what Krishna's chatbot architecture looks like and how it works?\"\n",
    "    ]\n",
    ")\n",
    "# Launch with request support\n",
    "demo.queue()\n",
    "demo.launch(\n",
    "    max_threads=4,\n",
    "    prevent_thread_lock=True,\n",
    "    debug=True\n",
    ")"
   ]
  },
  {
   "cell_type": "markdown",
   "id": "b6ae40a3",
   "metadata": {},
   "source": [
    "Knowledge base updated: {'user_name': 'Yaswanth', 'company': 'NYU Langone Health', 'last_input': \"my name is yaswanth i'm from NYU langue health is he good fit for our data scientist role on plant domain?\", 'last_output': 'Hi Yaswanth from NYU Langone Health! ... (full response omitted for brevity)', 'summary_history': [\"Krishna's research interests\", \"Krishna's strengths\", 'Data Scientist role in plant domain'], 'recent_interests': [\"Krishna's research\", 'machine learning', 'bioinformatics', 'LLMs', 'data systems', 'cloud computing', 'plant genomics', 'Data Scientist role']}\n"
   ]
  },
  {
   "cell_type": "code",
   "execution_count": null,
   "id": "3dbbd3bb",
   "metadata": {},
   "outputs": [],
   "source": [
    "# result = hybrid_chain.invoke(inputs)\n",
    "# print(\"🔍 Query:\")\n",
    "# print(result[\"query\"])\n",
    "# print(\"\\n📦 Retrieved Chunks:\")\n",
    "# for i, chunk in enumerate(result[\"chunks\"], 1):\n",
    "#     print(f\"\\n🔹 Chunk {i}\")\n",
    "#     print(\"📄 Content:\\n\", chunk[\"content\"])  # Full text\n",
    "    \n",
    "#     # Print the other fields compactly\n",
    "#     print(\"📌 Info:\")\n",
    "#     print(f\"  Source       : {chunk.get('source')}\")\n",
    "#     print(f\"  Final Score  : {round(float(chunk.get('final_score', 0)), 4)}\")\n",
    "#     print(f\"  Vector Score : {round(float(chunk.get('vector_score', 0)), 4)}\")\n",
    "#     print(f\"  BM25 Score   : {round(float(chunk.get('bm25_score', 0)), 4)}\")"
   ]
  },
  {
   "cell_type": "code",
   "execution_count": null,
   "id": "062e6a01",
   "metadata": {},
   "outputs": [],
   "source": [
    "# print_validated_chunks = RunnableLambda(lambda all_data: (\n",
    "#     [\n",
    "#         print(f\"\\n✅ Chosen Chunk {idx}:\\n{all_data['chunks'][idx - 1]['content'][:300]}...\")\n",
    "#         for idx in all_data[\"validation\"][\"valid_chunks\"]\n",
    "#     ]\n",
    "#     if not all_data[\"validation\"][\"is_out_of_scope\"]\n",
    "#     else print(\"🚫 Query deemed out-of-scope.\")\n",
    "# ))"
   ]
  },
  {
   "cell_type": "code",
   "execution_count": null,
   "id": "dc0a57ca",
   "metadata": {},
   "outputs": [],
   "source": [
    "# full_document = \"\\n\\n\".join(chunk[\"content\"] for chunk in result[\"chunks\"])"
   ]
  },
  {
   "cell_type": "code",
   "execution_count": null,
   "id": "14dcefcb",
   "metadata": {},
   "outputs": [],
   "source": [
    "# inject_document = RunnableLambda(lambda x: {**x, \"full_document\": full_document})"
   ]
  },
  {
   "cell_type": "code",
   "execution_count": null,
   "id": "d45ca28d",
   "metadata": {},
   "outputs": [],
   "source": [
    "# full_pipeline = (\n",
    "#     hybrid_chain\n",
    "#     #| PPrint()\n",
    "#     | RunnableAssign({\"validation\": validation_chain})\n",
    "#     #| PPrint()\n",
    "#     | inject_document\n",
    "#     | RunnableAssign({\"answer\": answer_chain})\n",
    "# )"
   ]
  }
 ],
 "metadata": {
  "kernelspec": {
   "display_name": "env",
   "language": "python",
   "name": "python3"
  },
  "language_info": {
   "codemirror_mode": {
    "name": "ipython",
    "version": 3
   },
   "file_extension": ".py",
   "mimetype": "text/x-python",
   "name": "python",
   "nbconvert_exporter": "python",
   "pygments_lexer": "ipython3",
   "version": "3.11.1"
  }
 },
 "nbformat": 4,
 "nbformat_minor": 5
}
